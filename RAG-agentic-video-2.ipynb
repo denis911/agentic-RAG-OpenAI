{
 "cells": [
  {
   "cell_type": "markdown",
   "id": "9c9e01ec-3d4c-427a-9a42-959e1fb50260",
   "metadata": {
    "vscode": {
     "languageId": "plaintext"
    }
   },
   "source": [
    "## Video 2 from the agents workshop"
   ]
  },
  {
   "cell_type": "code",
   "execution_count": 2,
   "id": "569bfac0-259d-4868-929b-2171dd1903e2",
   "metadata": {},
   "outputs": [
    {
     "name": "stdin",
     "output_type": "stream",
     "text": [
      "🔑 Enter your OpenAI API key:  ········\n"
     ]
    }
   ],
   "source": [
    "# Video link https://www.youtube.com/watch?v=yS_hwnJusDk\n",
    "# notebook discussed is https://github.com/alexeygrigorev/rag-agents-workshop/blob/main/agents-part2.ipynb\n",
    "\n",
    "# we have to enter OpenAI key here and then we can run all cells freely...\n",
    "import os\n",
    "from getpass import getpass\n",
    "from openai import OpenAI\n",
    "\n",
    "if not (openai_api_key := os.getenv(\"OPENAI_API_KEY\")):\n",
    "    openai_api_key = getpass(\"🔑 Enter your OpenAI API key: \")\n",
    "os.environ[\"OPENAI_API_KEY\"] = openai_api_key"
   ]
  },
  {
   "cell_type": "markdown",
   "id": "9b3c8068-c3cb-4c1b-858e-03139d7abda2",
   "metadata": {},
   "source": [
    "## Download FAQ data and set up minsearch "
   ]
  },
  {
   "cell_type": "code",
   "execution_count": 3,
   "id": "4979b1a8-16f6-4b9f-8284-42a042b6bc63",
   "metadata": {},
   "outputs": [],
   "source": [
    "import json\n",
    "from minsearch import AppendableIndex\n",
    "\n",
    "import requests \n",
    "\n",
    "docs_url = 'https://github.com/alexeygrigorev/llm-rag-workshop/raw/main/notebooks/documents.json'\n",
    "docs_response = requests.get(docs_url)\n",
    "documents_raw = docs_response.json()\n",
    "\n",
    "documents = []\n",
    "\n",
    "for course in documents_raw:\n",
    "    course_name = course['course']\n",
    "\n",
    "    for doc in course['documents']:\n",
    "        doc['course'] = course_name\n",
    "        documents.append(doc)\n",
    "\n"
   ]
  },
  {
   "cell_type": "code",
   "execution_count": 4,
   "id": "62f11c01-848f-4986-a8d4-85ee3c53b775",
   "metadata": {},
   "outputs": [
    {
     "data": {
      "text/plain": [
       "{'text': \"Yes, even if you don't register, you're still eligible to submit the homeworks.\\nBe aware, however, that there will be deadlines for turning in the final projects. So don't leave everything for the last minute.\",\n",
       " 'section': 'General course-related questions',\n",
       " 'question': 'Course - Can I still join the course after the start date?',\n",
       " 'course': 'data-engineering-zoomcamp'}"
      ]
     },
     "execution_count": 4,
     "metadata": {},
     "output_type": "execute_result"
    }
   ],
   "source": [
    "documents[2]"
   ]
  },
  {
   "cell_type": "code",
   "execution_count": 5,
   "id": "1e82d6d2-716a-4d3f-8876-9f6ae0ede8e4",
   "metadata": {},
   "outputs": [
    {
     "data": {
      "text/plain": [
       "<minsearch.append.AppendableIndex at 0x7abf4f5d5430>"
      ]
     },
     "execution_count": 5,
     "metadata": {},
     "output_type": "execute_result"
    }
   ],
   "source": [
    "# set up minsearch index\n",
    "\n",
    "index = AppendableIndex(\n",
    "    text_fields=[\"question\", \"text\", \"section\"],\n",
    "    keyword_fields=[\"course\"]\n",
    ")\n",
    "\n",
    "index.fit(documents)"
   ]
  },
  {
   "cell_type": "markdown",
   "id": "6974df58-4bf6-4467-baa6-fbef50b57883",
   "metadata": {},
   "source": [
    "## Start OpenAI and create CourseFAQTools class"
   ]
  },
  {
   "cell_type": "code",
   "execution_count": 6,
   "id": "4e4b2a84-3b0f-423d-a644-5fdba53beac2",
   "metadata": {},
   "outputs": [],
   "source": [
    "from openai import OpenAI\n",
    "client = OpenAI()"
   ]
  },
  {
   "cell_type": "code",
   "execution_count": 10,
   "id": "4ae2eef4-61c8-49a7-b9b7-49c5cfc28082",
   "metadata": {},
   "outputs": [],
   "source": [
    "## import chat_assistant_2 module for class CourseFAQTools:\n",
    "# !wget https://raw.githubusercontent.com/alexeygrigorev/rag-agents-workshop/refs/heads/main/chat_assistant_2.py\n",
    "\n",
    "from chat_assistant_2 import IPythonChatInterface, Tools, ChatAssistant\n",
    "##"
   ]
  },
  {
   "cell_type": "code",
   "execution_count": 8,
   "id": "a5503fba-5fac-4125-ae21-2903b16d0588",
   "metadata": {},
   "outputs": [],
   "source": [
    "from typing import Any, Dict, List\n",
    "\n",
    "class CourseFAQTools:\n",
    "\n",
    "    def __init__(self, index):\n",
    "        self.index = index\n",
    "\n",
    "    def search(self, query: str) -> List[Dict[str, Any]]:\n",
    "        \"\"\"\n",
    "        Search the FAQ database for entries matching the given query.\n",
    "    \n",
    "        Args:\n",
    "            query (str): Search query text to look up in the course FAQ.\n",
    "    \n",
    "        Returns:\n",
    "            List[Dict[str, Any]]: A list of search result entries, each containing relevant metadata.\n",
    "        \"\"\"\n",
    "        boost = {'question': 3.0, 'section': 0.5}\n",
    "    \n",
    "        results = self.index.search(\n",
    "            query=query,\n",
    "            filter_dict={'course': 'data-engineering-zoomcamp'},\n",
    "            boost_dict=boost,\n",
    "            num_results=5,\n",
    "            output_ids=True\n",
    "        )\n",
    "    \n",
    "        return results\n",
    "\n",
    "\n",
    "    def add_entry(self, question: str, answer: str) -> None:\n",
    "        \"\"\"\n",
    "        Add a new entry to the FAQ database.\n",
    "    \n",
    "        Args:\n",
    "            question (str): The question to be added to the FAQ database.\n",
    "            answer (str): The corresponding answer to the question.\n",
    "        \"\"\"\n",
    "        doc = {\n",
    "            'question': question,\n",
    "            'text': answer,\n",
    "            'section': 'user added',\n",
    "            'course': 'data-engineering-zoomcamp'\n",
    "        }\n",
    "        self.index.append(doc)\n",
    "\n"
   ]
  },
  {
   "cell_type": "code",
   "execution_count": 11,
   "id": "3d22e108-20c0-4c8c-b08f-92a352a3ca9d",
   "metadata": {},
   "outputs": [],
   "source": [
    "# lets try to use this new class\n",
    "\n",
    "faq_tools = CourseFAQTools(index)"
   ]
  },
  {
   "cell_type": "code",
   "execution_count": 12,
   "id": "d1592a5f-3f24-4971-80d6-39597b6ddc71",
   "metadata": {},
   "outputs": [
    {
     "data": {
      "text/plain": [
       "[{'type': 'function',\n",
       "  'name': 'add_entry',\n",
       "  'description': 'Add a new entry to the FAQ database.\\n\\nArgs:\\n    question (str): The question to be added to the FAQ database.\\n    answer (str): The corresponding answer to the question.',\n",
       "  'parameters': {'type': 'object',\n",
       "   'properties': {'question': {'type': 'string',\n",
       "     'description': 'question parameter'},\n",
       "    'answer': {'type': 'string', 'description': 'answer parameter'}},\n",
       "   'required': ['question', 'answer'],\n",
       "   'additionalProperties': False}},\n",
       " {'type': 'function',\n",
       "  'name': 'search',\n",
       "  'description': 'Search the FAQ database for entries matching the given query.\\n\\nArgs:\\n    query (str): Search query text to look up in the course FAQ.\\n\\nReturns:\\n    List[Dict[str, Any]]: A list of search result entries, each containing relevant metadata.',\n",
       "  'parameters': {'type': 'object',\n",
       "   'properties': {'query': {'type': 'string',\n",
       "     'description': 'query parameter'}},\n",
       "   'required': ['query'],\n",
       "   'additionalProperties': False}}]"
      ]
     },
     "execution_count": 12,
     "metadata": {},
     "output_type": "execute_result"
    }
   ],
   "source": [
    "# add our FAQ tool to the tools collection and check the result\n",
    "tools = Tools()\n",
    "tools.add_tools(faq_tools)\n",
    "tools.get_tools()"
   ]
  },
  {
   "cell_type": "code",
   "execution_count": 13,
   "id": "82e180a0-a49d-4747-b6cc-1ddbef0bc451",
   "metadata": {},
   "outputs": [],
   "source": [
    "# create a RAG chat with our tools use\n",
    "\n",
    "developer_prompt = \"\"\"\n",
    "You're a course teaching assistant. \n",
    "You're given a question from a course student and your task is to answer it.\n",
    "\n",
    "Before making any function calls, explain your reasoning why you want to perform something.\n",
    "\n",
    "When searching in our FAQ, perform multiple search queries with diffierently phrased questions.\n",
    "\n",
    "At the end, ask the user a question to make it more engaging\n",
    "\"\"\".strip()\n",
    "\n",
    "interface = IPythonChatInterface()\n",
    "\n",
    "chat = ChatAssistant(\n",
    "    tools=tools,\n",
    "    developer_prompt=developer_prompt,\n",
    "    interface=interface,\n",
    "    openai_client=client\n",
    ")\n"
   ]
  },
  {
   "cell_type": "code",
   "execution_count": 14,
   "id": "04dff5ee-1b54-4a97-8cc2-6e6f0663c2d0",
   "metadata": {},
   "outputs": [
    {
     "name": "stdin",
     "output_type": "stream",
     "text": [
      "User: Can I register if course is started already?\n"
     ]
    },
    {
     "data": {
      "text/html": [
       "\n",
       "            <div>\n",
       "                <div><b>Assistant:</b></div>\n",
       "                <div><p>To provide you with the most accurate and helpful information regarding registration after a course has already started, I will first search our FAQ database for any relevant entries. I will use different phrasings related to your question, such as \"late registration,\" \"registering after the course has begun,\" and \"course start registration policy.\" This way, I can ensure I capture all possible related information.</p>\n",
       "<p>Let's find the answers!</p></div>\n",
       "            </div>\n",
       "        "
      ],
      "text/plain": [
       "<IPython.core.display.HTML object>"
      ]
     },
     "metadata": {},
     "output_type": "display_data"
    },
    {
     "data": {
      "text/html": [
       "\n",
       "            <details>\n",
       "                <summary>Function call: <tt>search({\"query\":\"late registration\"})</tt></summary>\n",
       "                <div>\n",
       "                    <b>Call</b>\n",
       "                    <pre>{\"query\":\"late registration\"}</pre>\n",
       "                </div>\n",
       "                <div>\n",
       "                    <b>Output</b>\n",
       "                    <pre>[{\"text\": \"No, late submissions are not allowed. But if the form is still not closed and it\\u2019s after the due date, you can still submit the homework. confirm your submission by the date-timestamp on the Course page.y\\nOlder news:[source1] [source2]\", \"section\": \"General course-related questions\", \"question\": \"Homework - Are late submissions of homework allowed?\", \"course\": \"data-engineering-zoomcamp\", \"_id\": 15}, {\"text\": \"You don't need it. You're accepted. You can also just start learning and submitting homework without registering. It is not checked against any registered list. Registration is just to gauge interest before the start date.\", \"section\": \"General course-related questions\", \"question\": \"Course - I have registered for the Data Engineering Bootcamp. When can I expect to receive the confirmation email?\", \"course\": \"data-engineering-zoomcamp\", \"_id\": 3}, {\"text\": \"You will have two attempts for a project. If the first project deadline is over and you\\u2019re late or you submit the project and fail the first attempt, you have another chance to submit the project with the second attempt.\", \"section\": \"General course-related questions\", \"question\": \"Project - What is Project Attemp #1 and Project Attempt #2 exactly?\", \"course\": \"data-engineering-zoomcamp\", \"_id\": 38}]</pre>\n",
       "                </div>\n",
       "            </details>\n",
       "        "
      ],
      "text/plain": [
       "<IPython.core.display.HTML object>"
      ]
     },
     "metadata": {},
     "output_type": "display_data"
    },
    {
     "data": {
      "text/html": [
       "\n",
       "            <details>\n",
       "                <summary>Function call: <tt>search({\"query\":\"registering after the course has begun\"})</tt></summary>\n",
       "                <div>\n",
       "                    <b>Call</b>\n",
       "                    <pre>{\"query\":\"registering after the course has begun\"}</pre>\n",
       "                </div>\n",
       "                <div>\n",
       "                    <b>Output</b>\n",
       "                    <pre>[{\"text\": \"You don't need it. You're accepted. You can also just start learning and submitting homework without registering. It is not checked against any registered list. Registration is just to gauge interest before the start date.\", \"section\": \"General course-related questions\", \"question\": \"Course - I have registered for the Data Engineering Bootcamp. When can I expect to receive the confirmation email?\", \"course\": \"data-engineering-zoomcamp\", \"_id\": 3}, {\"text\": \"The purpose of this document is to capture frequently asked technical questions\\nThe exact day and hour of the course will be 15th Jan 2024 at 17h00. The course will start with the first  \\u201cOffice Hours'' live.1\\nSubscribe to course public Google Calendar (it works from Desktop only).\\nRegister before the course starts using this link.\\nJoin the course Telegram channel with announcements.\\nDon\\u2019t forget to register in DataTalks.Club's Slack and join the channel.\", \"section\": \"General course-related questions\", \"question\": \"Course - When will the course start?\", \"course\": \"data-engineering-zoomcamp\", \"_id\": 0}, {\"text\": \"Yes, we will keep all the materials after the course finishes, so you can follow the course at your own pace after it finishes.\\nYou can also continue looking at the homeworks and continue preparing for the next cohort. I guess you can also start working on your final capstone project.\", \"section\": \"General course-related questions\", \"question\": \"Course - Can I follow the course after it finishes?\", \"course\": \"data-engineering-zoomcamp\", \"_id\": 7}, {\"text\": \"No, you can only get a certificate if you finish the course with a \\u201clive\\u201d cohort. We don't award certificates for the self-paced mode. The reason is you need to peer-review capstone(s) after submitting a project. You can only peer-review projects at the time the course is running.\", \"section\": \"General course-related questions\", \"question\": \"Certificate - Can I follow the course in a self-paced mode and get a certificate?\", \"course\": \"data-engineering-zoomcamp\", \"_id\": 11}, {\"text\": \"After you create a GitHub account, you should clone the course repo to your local machine using the process outlined in this video: Git for Everybody: How to Clone a Repository from GitHub\\nHaving this local repository on your computer will make it easy for you to access the instructors\\u2019 code and make pull requests (if you want to add your own notes or make changes to the course content).\\nYou will probably also create your own repositories that host your notes, versions of your file, to do this. Here is a great tutorial that shows you how to do this: https://www.atlassian.com/git/tutorials/setting-up-a-repository\\nRemember to ignore large database, .csv, and .gz files, and other files that should not be saved to a repository. Use .gitignore for this: https://www.atlassian.com/git/tutorials/saving-changes/gitignore NEVER store passwords or keys in a git repo (even if that repo is set to private).\\nThis is also a great resource: https://dangitgit.com/\", \"section\": \"General course-related questions\", \"question\": \"How do I use Git / GitHub for this course?\", \"course\": \"data-engineering-zoomcamp\", \"_id\": 41}]</pre>\n",
       "                </div>\n",
       "            </details>\n",
       "        "
      ],
      "text/plain": [
       "<IPython.core.display.HTML object>"
      ]
     },
     "metadata": {},
     "output_type": "display_data"
    },
    {
     "data": {
      "text/html": [
       "\n",
       "            <details>\n",
       "                <summary>Function call: <tt>search({\"query\":\"course start registration policy\"})</tt></summary>\n",
       "                <div>\n",
       "                    <b>Call</b>\n",
       "                    <pre>{\"query\":\"course start registration policy\"}</pre>\n",
       "                </div>\n",
       "                <div>\n",
       "                    <b>Output</b>\n",
       "                    <pre>[{\"text\": \"The purpose of this document is to capture frequently asked technical questions\\nThe exact day and hour of the course will be 15th Jan 2024 at 17h00. The course will start with the first  \\u201cOffice Hours'' live.1\\nSubscribe to course public Google Calendar (it works from Desktop only).\\nRegister before the course starts using this link.\\nJoin the course Telegram channel with announcements.\\nDon\\u2019t forget to register in DataTalks.Club's Slack and join the channel.\", \"section\": \"General course-related questions\", \"question\": \"Course - When will the course start?\", \"course\": \"data-engineering-zoomcamp\", \"_id\": 0}, {\"text\": \"You don't need it. You're accepted. You can also just start learning and submitting homework without registering. It is not checked against any registered list. Registration is just to gauge interest before the start date.\", \"section\": \"General course-related questions\", \"question\": \"Course - I have registered for the Data Engineering Bootcamp. When can I expect to receive the confirmation email?\", \"course\": \"data-engineering-zoomcamp\", \"_id\": 3}, {\"text\": \"Yes, even if you don't register, you're still eligible to submit the homeworks.\\nBe aware, however, that there will be deadlines for turning in the final projects. So don't leave everything for the last minute.\", \"section\": \"General course-related questions\", \"question\": \"Course - Can I still join the course after the start date?\", \"course\": \"data-engineering-zoomcamp\", \"_id\": 2}, {\"text\": \"Yes, we will keep all the materials after the course finishes, so you can follow the course at your own pace after it finishes.\\nYou can also continue looking at the homeworks and continue preparing for the next cohort. I guess you can also start working on your final capstone project.\", \"section\": \"General course-related questions\", \"question\": \"Course - Can I follow the course after it finishes?\", \"course\": \"data-engineering-zoomcamp\", \"_id\": 7}, {\"text\": \"You can start by installing and setting up all the dependencies and requirements:\\nGoogle cloud account\\nGoogle Cloud SDK\\nPython 3 (installed with Anaconda)\\nTerraform\\nGit\\nLook over the prerequisites and syllabus to see if you are comfortable with these subjects.\", \"section\": \"General course-related questions\", \"question\": \"Course - What can I do before the course starts?\", \"course\": \"data-engineering-zoomcamp\", \"_id\": 4}]</pre>\n",
       "                </div>\n",
       "            </details>\n",
       "        "
      ],
      "text/plain": [
       "<IPython.core.display.HTML object>"
      ]
     },
     "metadata": {},
     "output_type": "display_data"
    },
    {
     "data": {
      "text/html": [
       "\n",
       "            <div>\n",
       "                <div><b>Assistant:</b></div>\n",
       "                <div><p>Based on the searches, I found some important information regarding registering for the course after it has started:</p>\n",
       "<ol>\n",
       "<li>\n",
       "<p><strong>Registration is Flexible</strong>: You do not need to register formally to participate in the course. You can start learning and submitting assignments without registering, as your participation is not checked against a registered list. Registration mainly helps gauge interest before the course begins.</p>\n",
       "</li>\n",
       "<li>\n",
       "<p><strong>Submit Homework Regardless</strong>: Even if you haven't formally registered, you're still eligible to submit homework. However, be mindful of deadlines for final projects to avoid last-minute issues.</p>\n",
       "</li>\n",
       "<li>\n",
       "<p><strong>Post-Course Access</strong>: You will have access to all course materials even after the course finishes, allowing you to proceed at your own pace.</p>\n",
       "</li>\n",
       "</ol>\n",
       "<p>So, to answer your question: Yes, you can start engaging with the course even though it has already begun!</p>\n",
       "<p>Is this the kind of information you were looking for, or do you have more specific questions about the course?</p></div>\n",
       "            </div>\n",
       "        "
      ],
      "text/plain": [
       "<IPython.core.display.HTML object>"
      ]
     },
     "metadata": {},
     "output_type": "display_data"
    },
    {
     "name": "stdin",
     "output_type": "stream",
     "text": [
      "User: stop\n"
     ]
    },
    {
     "name": "stdout",
     "output_type": "stream",
     "text": [
      "chat ended\n"
     ]
    }
   ],
   "source": [
    "# type STOP to exit the chat\n",
    "\n",
    "chat.run()"
   ]
  },
  {
   "cell_type": "code",
   "execution_count": null,
   "id": "5db2fd4a-f2ca-4687-b068-f56b7c94be9b",
   "metadata": {},
   "outputs": [],
   "source": []
  }
 ],
 "metadata": {
  "kernelspec": {
   "display_name": "Python 3 (ipykernel)",
   "language": "python",
   "name": "python3"
  },
  "language_info": {
   "codemirror_mode": {
    "name": "ipython",
    "version": 3
   },
   "file_extension": ".py",
   "mimetype": "text/x-python",
   "name": "python",
   "nbconvert_exporter": "python",
   "pygments_lexer": "ipython3",
   "version": "3.12.1"
  }
 },
 "nbformat": 4,
 "nbformat_minor": 5
}

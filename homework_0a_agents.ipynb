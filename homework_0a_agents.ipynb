{
 "cells": [
  {
   "cell_type": "markdown",
   "id": "9cd22a91-a10f-4cc0-90a8-e9c4600e8bce",
   "metadata": {
    "vscode": {
     "languageId": "plaintext"
    }
   },
   "source": [
    "## Install dependencies"
   ]
  },
  {
   "cell_type": "code",
   "execution_count": 18,
   "id": "30969424-c9d0-490c-af5d-ff3f79aa791f",
   "metadata": {},
   "outputs": [],
   "source": [
    "# we have to enter OpenAI key here and then we can run all cells freely...\n",
    "import os\n",
    "from getpass import getpass\n",
    "from openai import OpenAI\n",
    "\n",
    "if not (openai_api_key := os.getenv(\"OPENAI_API_KEY\")):\n",
    "    openai_api_key = getpass(\"🔑 Enter your OpenAI API key: \")\n",
    "os.environ[\"OPENAI_API_KEY\"] = openai_api_key"
   ]
  },
  {
   "cell_type": "code",
   "execution_count": 19,
   "id": "f192cf0d-c34e-415e-b219-57d6170a1821",
   "metadata": {},
   "outputs": [],
   "source": [
    "# Homework: Agents\n",
    "# In this homework, we will learn more about function calling, and we will also explore MCP - model-context protocol.\n",
    "\n",
    "# Preparation\n",
    "# First, we'll define a function that we will use when building our agent.\n",
    "\n",
    "# It will generate fake weather data:\n",
    "\n",
    "import random\n",
    "\n",
    "known_weather_data = {\n",
    "    'berlin': 20.0\n",
    "}\n",
    "\n",
    "def get_weather(city: str) -> float:    \n",
    "    city = city.strip().lower()\n",
    "\n",
    "    if city in known_weather_data:\n",
    "        return known_weather_data[city]\n",
    "\n",
    "    return round(random.uniform(-5, 35), 1)\n",
    "\n",
    "# def get_weather(*args, **kwargs):\n",
    "#     print(\"DEBUG:\", *args, *[f\"{k}={v}\" for k, v in kwargs.items()])\n"
   ]
  },
  {
   "cell_type": "markdown",
   "id": "c672a650-46f9-43f2-a46b-96ea809570ae",
   "metadata": {},
   "source": [
    "## Q1. Define function description"
   ]
  },
  {
   "cell_type": "code",
   "execution_count": 20,
   "id": "1781c993-592b-449a-a2ae-c335760eff52",
   "metadata": {},
   "outputs": [],
   "source": [
    "# Q1. Define function description\n",
    "# We want to use it as a tool for our agent, so we need to describe it\n",
    "\n",
    "# How should the description for this function look like? Fill in missing parts\n",
    "\n",
    "get_weather_tool = {\n",
    "    \"type\": \"function\",\n",
    "    \"name\": \"get_weather\",\n",
    "    \"description\": \"get weather data\",\n",
    "    \"parameters\": {\n",
    "        \"type\": \"object\",\n",
    "        \"properties\": {\n",
    "            \"city\": {\n",
    "                \"type\": \"string\",\n",
    "                \"description\": \"get weather data from known city and generate for unknown\"\n",
    "            }\n",
    "        },\n",
    "        #\"required\": [\"query\"],\n",
    "        \"additionalProperties\": False\n",
    "    }\n",
    "}\n",
    "\n",
    "# What did you put in TODO3? \"city\"\n"
   ]
  },
  {
   "cell_type": "code",
   "execution_count": 21,
   "id": "b82f145d-49da-4b3a-8875-f09f80ad1c05",
   "metadata": {},
   "outputs": [],
   "source": [
    "# Testing it (Optional)\n",
    "# If you have OpenAI API Key (or alternative provider), let's test it.\n",
    "\n",
    "# A question could be \"What's the weather like in Germany?\"\n",
    "\n",
    "# Experiment with different system prompts to have better answers from the system.\n",
    "\n",
    "# You can use chat_assistant.py or implement everything yourself\n",
    "\n",
    "#!wget https://raw.githubusercontent.com/alexeygrigorev/rag-agents-workshop/refs/heads/main/chat_assistant.py\n",
    "\n",
    "#!pip install markdown --q"
   ]
  },
  {
   "cell_type": "code",
   "execution_count": 22,
   "id": "ae02a448-5cc6-4195-a80a-1044b9eca32b",
   "metadata": {},
   "outputs": [],
   "source": [
    "from IPython.display import display, HTML\n",
    "import markdown # pip install markdown"
   ]
  },
  {
   "cell_type": "code",
   "execution_count": 23,
   "id": "a01ceea3-49f1-4e8a-b5c9-86d8e3ca5adf",
   "metadata": {},
   "outputs": [],
   "source": [
    "# connecting to LLM, we entered our API KEY already at the first cell\n",
    "client = OpenAI()"
   ]
  },
  {
   "cell_type": "code",
   "execution_count": 24,
   "id": "72d6da96-6d69-4750-89e8-ca5cae6ece29",
   "metadata": {},
   "outputs": [],
   "source": [
    "# Let's use it:\n",
    "\n",
    "import chat_assistant\n",
    "\n",
    "tools = chat_assistant.Tools()\n",
    "tools.add_tool(get_weather, get_weather_tool)\n",
    "\n",
    "tools.get_tools()\n",
    "\n",
    "developer_prompt = \"\"\"\n",
    "You're a weather bureau assistant. \n",
    "You're given a question about current weather conditions in particular city or country and your task is to answer it.\n",
    "\n",
    "Use weather tool to answer the question. Parse the user question and pass only the name of the city to the tool.\n",
    "If you unsure what is the city user asked for, double-check exact city name.\n",
    "\n",
    "At the end of each response, ask the user a follow up question based on your answer.\n",
    "\"\"\".strip()\n",
    "\n",
    "chat_interface = chat_assistant.ChatInterface()\n",
    "\n",
    "chat = chat_assistant.ChatAssistant(\n",
    "    tools=tools,\n",
    "    developer_prompt=developer_prompt,\n",
    "    chat_interface=chat_interface,\n",
    "    client=client\n",
    ")\n"
   ]
  },
  {
   "cell_type": "code",
   "execution_count": 25,
   "id": "dd5f6cb1-b817-4f25-b397-31cb9af19491",
   "metadata": {},
   "outputs": [
    {
     "name": "stdin",
     "output_type": "stream",
     "text": [
      "You: STOP\n"
     ]
    },
    {
     "name": "stdout",
     "output_type": "stream",
     "text": [
      "Chat ended.\n"
     ]
    }
   ],
   "source": [
    "# and run\n",
    "# type stop to exit\n",
    "\n",
    "chat.run()"
   ]
  },
  {
   "cell_type": "markdown",
   "id": "9b3ff780-48e2-41bf-b7f9-afdefc332754",
   "metadata": {},
   "source": [
    "## Q2. Adding another tool"
   ]
  },
  {
   "cell_type": "code",
   "execution_count": 36,
   "id": "de37e3e2-87b4-4d29-ba03-e33358eff2b6",
   "metadata": {},
   "outputs": [],
   "source": [
    "# Q2. Adding another tool\n",
    "# Let's add another tool - a function that can add weather data to our database:\n",
    "\n",
    "def set_weather(city: str, temp: str) -> None:\n",
    "    city = city.strip().lower()\n",
    "    temp = float(temp.strip().lower())\n",
    "    known_weather_data[city] = temp\n",
    "    return 'OK'\n",
    "\n"
   ]
  },
  {
   "cell_type": "code",
   "execution_count": 37,
   "id": "48933c97-bafe-46c6-91a2-3c0cb3e3cc20",
   "metadata": {},
   "outputs": [],
   "source": [
    "# Now let's write a description for it.\n",
    "\n",
    "# What did you write?\n",
    "\n",
    "# Optionally, you can test it after adding this function.\n",
    "\n",
    "set_weather_tool = {\n",
    "    \"type\": \"function\",\n",
    "    \"name\": \"set_weather\",\n",
    "    \"description\": \"set weather data\",\n",
    "    \"parameters\": {\n",
    "        \"type\": \"object\",\n",
    "        \"properties\": {\n",
    "            \"city\": {\n",
    "                \"type\": \"string\",\n",
    "                \"description\": \"name for a city to set weather data\"\n",
    "            },\n",
    "            \"temp\": {\n",
    "                \"type\": \"string\",\n",
    "                \"description\": \"temperature data for a city\"\n",
    "            },\n",
    "        },\n",
    "        \"additionalProperties\": False\n",
    "    }\n",
    "}\n"
   ]
  },
  {
   "cell_type": "code",
   "execution_count": 38,
   "id": "6b1f9c46-ec1e-4f7c-a3b4-72dde8be56be",
   "metadata": {},
   "outputs": [
    {
     "data": {
      "text/plain": [
       "[{'type': 'function',\n",
       "  'name': 'get_weather',\n",
       "  'description': 'get weather data',\n",
       "  'parameters': {'type': 'object',\n",
       "   'properties': {'city': {'type': 'string',\n",
       "     'description': 'get weather data from known city and generate for unknown'}},\n",
       "   'additionalProperties': False}},\n",
       " {'type': 'function',\n",
       "  'name': 'set_weather',\n",
       "  'description': 'set weather data',\n",
       "  'parameters': {'type': 'object',\n",
       "   'properties': {'city': {'type': 'string',\n",
       "     'description': 'name for a city to set weather data'},\n",
       "    'temp': {'type': 'string', 'description': 'temperature data for a city'}},\n",
       "   'additionalProperties': False}}]"
      ]
     },
     "execution_count": 38,
     "metadata": {},
     "output_type": "execute_result"
    }
   ],
   "source": [
    "# Check if tool is added correctly\n",
    "\n",
    "tools.add_tool(set_weather, set_weather_tool)\n",
    "\n",
    "tools.get_tools()"
   ]
  },
  {
   "cell_type": "code",
   "execution_count": 39,
   "id": "218dc602-6183-46d3-8f86-a96c2efc6b72",
   "metadata": {},
   "outputs": [],
   "source": [
    "# change the prompt to let ChatGPT use second tool to update weather data\n",
    "\n",
    "developer_prompt = \"\"\"\n",
    "You're a weather bureau assistant. \n",
    "You have 2 user scenarios of operation:\n",
    "1/ If you're given a question about current weather conditions in particular city or country -\n",
    "use get weather data tool to answer the question. \n",
    "\n",
    "2/ If user advises that she/he knows the weather in the city and would like to set it up  -\n",
    "use set weather data tool to set the weather data in the particular city. \n",
    "\n",
    "In each scenario parse the user question and pass only the name of the city to the tool.\n",
    "If you unsure what is the city user asked for, double-check exact city name.\n",
    "\n",
    "At the end of each response, ask the user if she/he is satisfied and if answer is yes - \n",
    "advise to type STOP to end the conversation.\n",
    "\"\"\".strip()"
   ]
  },
  {
   "cell_type": "code",
   "execution_count": 40,
   "id": "3e72a04e-7185-4233-82e1-031893272099",
   "metadata": {},
   "outputs": [],
   "source": [
    "# refresh our chat objects to accomodate new tool\n",
    "\n",
    "chat_interface = chat_assistant.ChatInterface()\n",
    "\n",
    "chat = chat_assistant.ChatAssistant(\n",
    "    tools=tools,\n",
    "    developer_prompt=developer_prompt,\n",
    "    chat_interface=chat_interface,\n",
    "    client=client\n",
    ")\n"
   ]
  },
  {
   "cell_type": "code",
   "execution_count": 41,
   "id": "cb1e963b-9239-4fd9-9b69-7a35411e43d6",
   "metadata": {},
   "outputs": [
    {
     "name": "stdin",
     "output_type": "stream",
     "text": [
      "You: What is the weather in Berlin now?\n"
     ]
    },
    {
     "data": {
      "text/html": [
       "\n",
       "            <details>\n",
       "            <summary>Function call: <tt>get_weather({\"city\":\"Berlin\"})</tt></summary>\n",
       "            <div>\n",
       "                <b>Call</b>\n",
       "                <pre>ResponseFunctionToolCall(arguments='{\"city\":\"Berlin\"}', call_id='call_9tDdbQyWr7E124iOknxUBVts', name='get_weather', type='function_call', id='fc_68befb2810f8819f9bdbe1b00dad1ba206796c1a635b0038', status='completed')</pre>\n",
       "            </div>\n",
       "            <div>\n",
       "                <b>Output</b>\n",
       "                <pre>20.0</pre>\n",
       "            </div>\n",
       "            \n",
       "            </details>\n",
       "        "
      ],
      "text/plain": [
       "<IPython.core.display.HTML object>"
      ]
     },
     "metadata": {},
     "output_type": "display_data"
    },
    {
     "data": {
      "text/html": [
       "\n",
       "            <div>\n",
       "                <div><b>Assistant:</b></div>\n",
       "                <div><p>The current temperature in Berlin is 20.0°C. </p>\n",
       "<p>Are you satisfied with this information? If yes, you can type STOP to end the conversation.</p></div>\n",
       "            </div>\n",
       "        "
      ],
      "text/plain": [
       "<IPython.core.display.HTML object>"
      ]
     },
     "metadata": {},
     "output_type": "display_data"
    },
    {
     "name": "stdin",
     "output_type": "stream",
     "text": [
      "You: Thanks! And what is the weather in Tokio?\n"
     ]
    },
    {
     "data": {
      "text/html": [
       "\n",
       "            <details>\n",
       "            <summary>Function call: <tt>get_weather({\"city\":\"Tokyo\"})</tt></summary>\n",
       "            <div>\n",
       "                <b>Call</b>\n",
       "                <pre>ResponseFunctionToolCall(arguments='{\"city\":\"Tokyo\"}', call_id='call_wdl9L0zC965J2GleKKFTtCjR', name='get_weather', type='function_call', id='fc_68befb4a5b30819fa6a080a82eed4bf006796c1a635b0038', status='completed')</pre>\n",
       "            </div>\n",
       "            <div>\n",
       "                <b>Output</b>\n",
       "                <pre>16.5</pre>\n",
       "            </div>\n",
       "            \n",
       "            </details>\n",
       "        "
      ],
      "text/plain": [
       "<IPython.core.display.HTML object>"
      ]
     },
     "metadata": {},
     "output_type": "display_data"
    },
    {
     "data": {
      "text/html": [
       "\n",
       "            <div>\n",
       "                <div><b>Assistant:</b></div>\n",
       "                <div><p>The current temperature in Tokyo is 16.5°C.</p>\n",
       "<p>Are you satisfied with this information? If yes, you can type STOP to end the conversation.</p></div>\n",
       "            </div>\n",
       "        "
      ],
      "text/plain": [
       "<IPython.core.display.HTML object>"
      ]
     },
     "metadata": {},
     "output_type": "display_data"
    },
    {
     "name": "stdin",
     "output_type": "stream",
     "text": [
      "You: I think it is incorrect - please set the weather for Tokyo as 35\n"
     ]
    },
    {
     "data": {
      "text/html": [
       "\n",
       "            <details>\n",
       "            <summary>Function call: <tt>set_weather({\"city\":\"Tokyo\",\"temp\":\"35\"})</tt></summary>\n",
       "            <div>\n",
       "                <b>Call</b>\n",
       "                <pre>ResponseFunctionToolCall(arguments='{\"city\":\"Tokyo\",\"temp\":\"35\"}', call_id='call_fHy2zw9AQK7CvHzuyt2aeUmy', name='set_weather', type='function_call', id='fc_68befb70c134819fa48d9c5495ec827e06796c1a635b0038', status='completed')</pre>\n",
       "            </div>\n",
       "            <div>\n",
       "                <b>Output</b>\n",
       "                <pre>\"OK\"</pre>\n",
       "            </div>\n",
       "            \n",
       "            </details>\n",
       "        "
      ],
      "text/plain": [
       "<IPython.core.display.HTML object>"
      ]
     },
     "metadata": {},
     "output_type": "display_data"
    },
    {
     "data": {
      "text/html": [
       "\n",
       "            <div>\n",
       "                <div><b>Assistant:</b></div>\n",
       "                <div><p>The weather for Tokyo has been set to 35°C.</p>\n",
       "<p>Are you satisfied with this information? If yes, you can type STOP to end the conversation.</p></div>\n",
       "            </div>\n",
       "        "
      ],
      "text/plain": [
       "<IPython.core.display.HTML object>"
      ]
     },
     "metadata": {},
     "output_type": "display_data"
    },
    {
     "name": "stdin",
     "output_type": "stream",
     "text": [
      "You: Thanks! What is the weather in Tokyo?\n"
     ]
    },
    {
     "data": {
      "text/html": [
       "\n",
       "            <details>\n",
       "            <summary>Function call: <tt>get_weather({\"city\":\"Tokyo\"})</tt></summary>\n",
       "            <div>\n",
       "                <b>Call</b>\n",
       "                <pre>ResponseFunctionToolCall(arguments='{\"city\":\"Tokyo\"}', call_id='call_M89Q1RvXZCDkMABPTwhOLq9v', name='get_weather', type='function_call', id='fc_68befb8d8b9c819f9fdf78e9c4f7ab5806796c1a635b0038', status='completed')</pre>\n",
       "            </div>\n",
       "            <div>\n",
       "                <b>Output</b>\n",
       "                <pre>35.0</pre>\n",
       "            </div>\n",
       "            \n",
       "            </details>\n",
       "        "
      ],
      "text/plain": [
       "<IPython.core.display.HTML object>"
      ]
     },
     "metadata": {},
     "output_type": "display_data"
    },
    {
     "data": {
      "text/html": [
       "\n",
       "            <div>\n",
       "                <div><b>Assistant:</b></div>\n",
       "                <div><p>The current temperature in Tokyo is now 35.0°C.</p>\n",
       "<p>Are you satisfied with this information? If yes, you can type STOP to end the conversation.</p></div>\n",
       "            </div>\n",
       "        "
      ],
      "text/plain": [
       "<IPython.core.display.HTML object>"
      ]
     },
     "metadata": {},
     "output_type": "display_data"
    },
    {
     "name": "stdin",
     "output_type": "stream",
     "text": [
      "You: STop\n"
     ]
    },
    {
     "name": "stdout",
     "output_type": "stream",
     "text": [
      "Chat ended.\n"
     ]
    }
   ],
   "source": [
    "# and run it - stop to exit\n",
    "\n",
    "chat.run()"
   ]
  },
  {
   "cell_type": "code",
   "execution_count": 42,
   "id": "4a237844-d32f-452d-8ded-e4c265ba24b4",
   "metadata": {},
   "outputs": [
    {
     "data": {
      "text/plain": [
       "{'berlin': 20.0, 'tokyo': 35.0}"
      ]
     },
     "execution_count": 42,
     "metadata": {},
     "output_type": "execute_result"
    }
   ],
   "source": [
    "known_weather_data"
   ]
  },
  {
   "cell_type": "markdown",
   "id": "35c17d93-022e-48e7-b820-d0a2ab671ebf",
   "metadata": {},
   "source": [
    "## Q3. Install FastMCP"
   ]
  },
  {
   "cell_type": "code",
   "execution_count": 44,
   "id": "6637fade-e846-47e8-9845-83251dd2d6cb",
   "metadata": {},
   "outputs": [],
   "source": [
    "# MCP\n",
    "# MCP stands for Model-Context Protocol. It allows LLMs communicate with different tools (like Qdrant). It's function calling, but one step further:\n",
    "\n",
    "# A tool can export a list of functions it has\n",
    "# When we include the tool to our Agent, we just need to include the link to the MCP server\n",
    "# Q3. Install FastMCP\n",
    "# Let's install a library for MCP - FastMCP:\n",
    "\n",
    "!pip install fastmcp --q # no long printouts...\n"
   ]
  },
  {
   "cell_type": "code",
   "execution_count": 46,
   "id": "ff228fe3-b0f8-4f34-9585-2d8b2e4599eb",
   "metadata": {},
   "outputs": [
    {
     "name": "stdout",
     "output_type": "stream",
     "text": [
      "2.12.2\n"
     ]
    }
   ],
   "source": [
    "# What's the version of FastMCP you installed?\n",
    "import importlib.metadata\n",
    "\n",
    "print(importlib.metadata.version(\"fastmcp\"))\n",
    "# 2.12.2"
   ]
  },
  {
   "cell_type": "markdown",
   "id": "0ee78bac-7e04-4dd0-9aa4-4833003716e5",
   "metadata": {},
   "source": [
    "## Q4. Simple MCP Server"
   ]
  },
  {
   "cell_type": "code",
   "execution_count": 50,
   "id": "54ff757d-644e-417e-93ed-5469fa405de2",
   "metadata": {},
   "outputs": [],
   "source": [
    "# Q4. Simple MCP Server\n",
    "# A simple MCP server from the documentation looks like that:\n",
    "\n",
    "# weather_server.py\n",
    "# from fastmcp import FastMCP\n",
    "\n",
    "# mcp = FastMCP(\"Demo 🚀\")\n",
    "\n",
    "# @mcp.tool\n",
    "# def add(a: int, b: int) -> int:\n",
    "#     \"\"\"Add two numbers\"\"\"\n",
    "#     return a + b\n",
    "\n",
    "\n",
    "# mcp.run()"
   ]
  },
  {
   "cell_type": "code",
   "execution_count": 51,
   "id": "a3f79876-8d5f-427a-a6ee-65d4fca94942",
   "metadata": {},
   "outputs": [],
   "source": [
    "# In our case, we need to write docstrings for our functions.\n",
    "\n",
    "# Let's ask ChatGPT for help:\n",
    "\n",
    "def get_weather(city: str) -> float:\n",
    "    \"\"\"\n",
    "    Retrieves the temperature for a specified city.\n",
    "\n",
    "    Parameters:\n",
    "        city (str): The name of the city for which to retrieve weather data.\n",
    "\n",
    "    Returns:\n",
    "        float: The temperature associated with the city.\n",
    "    \"\"\"\n",
    "    city = city.strip().lower()\n",
    "\n",
    "    if city in known_weather_data:\n",
    "        return known_weather_data[city]\n",
    "\n",
    "    return round(random.uniform(-5, 35), 1)\n",
    "\n",
    "\n",
    "def set_weather(city: str, temp: float) -> None:\n",
    "    \"\"\"\n",
    "    Sets the temperature for a specified city.\n",
    "\n",
    "    Parameters:\n",
    "        city (str): The name of the city for which to set the weather data.\n",
    "        temp (float): The temperature to associate with the city.\n",
    "\n",
    "    Returns:\n",
    "        str: A confirmation string 'OK' indicating successful update.\n",
    "    \"\"\"\n",
    "    city = city.strip().lower()\n",
    "    known_weather_data[city] = temp\n",
    "    return 'OK'\n",
    "\n"
   ]
  },
  {
   "cell_type": "code",
   "execution_count": null,
   "id": "a3d14845-e686-403d-9858-699dd9b843a5",
   "metadata": {},
   "outputs": [],
   "source": [
    "# Let's change the example for our case and run it\n",
    "\n",
    "# What do you see in the output?\n",
    "\n",
    "# Look for a string that matches this template:\n",
    "\n",
    "# Starting MCP server 'Demo 🚀' with transport '<TODO>'\n",
    "# What do you have instead of <TODO>?\n",
    "\n"
   ]
  }
 ],
 "metadata": {
  "kernelspec": {
   "display_name": "Python 3 (ipykernel)",
   "language": "python",
   "name": "python3"
  },
  "language_info": {
   "codemirror_mode": {
    "name": "ipython",
    "version": 3
   },
   "file_extension": ".py",
   "mimetype": "text/x-python",
   "name": "python",
   "nbconvert_exporter": "python",
   "pygments_lexer": "ipython3",
   "version": "3.12.1"
  }
 },
 "nbformat": 4,
 "nbformat_minor": 5
}

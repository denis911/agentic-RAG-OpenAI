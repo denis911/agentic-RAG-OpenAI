{
 "cells": [
  {
   "cell_type": "markdown",
   "id": "9cd22a91-a10f-4cc0-90a8-e9c4600e8bce",
   "metadata": {
    "vscode": {
     "languageId": "plaintext"
    }
   },
   "source": [
    "## Install dependencies"
   ]
  },
  {
   "cell_type": "code",
   "execution_count": 1,
   "id": "30969424-c9d0-490c-af5d-ff3f79aa791f",
   "metadata": {},
   "outputs": [
    {
     "name": "stdin",
     "output_type": "stream",
     "text": [
      "🔑 Enter your OpenAI API key:  ········\n"
     ]
    }
   ],
   "source": [
    "# we have to enter OpenAI key here and then we can run all cells freely...\n",
    "import os\n",
    "from getpass import getpass\n",
    "from openai import OpenAI\n",
    "\n",
    "if not (openai_api_key := os.getenv(\"OPENAI_API_KEY\")):\n",
    "    openai_api_key = getpass(\"🔑 Enter your OpenAI API key: \")\n",
    "os.environ[\"OPENAI_API_KEY\"] = openai_api_key"
   ]
  },
  {
   "cell_type": "code",
   "execution_count": 42,
   "id": "f192cf0d-c34e-415e-b219-57d6170a1821",
   "metadata": {},
   "outputs": [],
   "source": [
    "# Homework: Agents\n",
    "# In this homework, we will learn more about function calling, and we will also explore MCP - model-context protocol.\n",
    "\n",
    "# Preparation\n",
    "# First, we'll define a function that we will use when building our agent.\n",
    "\n",
    "# It will generate fake weather data:\n",
    "\n",
    "import random\n",
    "\n",
    "known_weather_data = {\n",
    "    'berlin': 20.0\n",
    "}\n",
    "\n",
    "def get_weather(city: str) -> float:    \n",
    "    city = city.strip().lower()\n",
    "\n",
    "    if city in known_weather_data:\n",
    "        return known_weather_data[city]\n",
    "\n",
    "    return round(random.uniform(-5, 35), 1)\n",
    "\n",
    "# def get_weather(*args, **kwargs):\n",
    "#     print(\"DEBUG:\", *args, *[f\"{k}={v}\" for k, v in kwargs.items()])\n"
   ]
  },
  {
   "cell_type": "markdown",
   "id": "c672a650-46f9-43f2-a46b-96ea809570ae",
   "metadata": {},
   "source": [
    "## Q1. Define function description"
   ]
  },
  {
   "cell_type": "code",
   "execution_count": 43,
   "id": "1781c993-592b-449a-a2ae-c335760eff52",
   "metadata": {},
   "outputs": [],
   "source": [
    "# Q1. Define function description\n",
    "# We want to use it as a tool for our agent, so we need to describe it\n",
    "\n",
    "# How should the description for this function look like? Fill in missing parts\n",
    "\n",
    "get_weather_tool = {\n",
    "    \"type\": \"function\",\n",
    "    \"name\": \"get_weather\",\n",
    "    \"description\": \"get weather data\",\n",
    "    \"parameters\": {\n",
    "        \"type\": \"object\",\n",
    "        \"properties\": {\n",
    "            \"city\": {\n",
    "                \"type\": \"string\",\n",
    "                \"description\": \"get weather data from known city and generate for unknown\"\n",
    "            }\n",
    "        },\n",
    "        #\"required\": [\"query\"],\n",
    "        \"additionalProperties\": False\n",
    "    }\n",
    "}\n",
    "\n",
    "# What did you put in TODO3? \"city\"\n"
   ]
  },
  {
   "cell_type": "code",
   "execution_count": 4,
   "id": "b82f145d-49da-4b3a-8875-f09f80ad1c05",
   "metadata": {},
   "outputs": [],
   "source": [
    "# Testing it (Optional)\n",
    "# If you have OpenAI API Key (or alternative provider), let's test it.\n",
    "\n",
    "# A question could be \"What's the weather like in Germany?\"\n",
    "\n",
    "# Experiment with different system prompts to have better answers from the system.\n",
    "\n",
    "# You can use chat_assistant.py or implement everything yourself\n",
    "\n",
    "#!wget https://raw.githubusercontent.com/alexeygrigorev/rag-agents-workshop/refs/heads/main/chat_assistant.py\n",
    "\n",
    "#!pip install markdown --q"
   ]
  },
  {
   "cell_type": "code",
   "execution_count": 24,
   "id": "ae02a448-5cc6-4195-a80a-1044b9eca32b",
   "metadata": {},
   "outputs": [],
   "source": [
    "from IPython.display import display, HTML\n",
    "import markdown # pip install markdown"
   ]
  },
  {
   "cell_type": "code",
   "execution_count": 25,
   "id": "a01ceea3-49f1-4e8a-b5c9-86d8e3ca5adf",
   "metadata": {},
   "outputs": [],
   "source": [
    "# connecting to LLM, we entered our API KEY already at the first cell\n",
    "client = OpenAI()"
   ]
  },
  {
   "cell_type": "code",
   "execution_count": 44,
   "id": "72d6da96-6d69-4750-89e8-ca5cae6ece29",
   "metadata": {},
   "outputs": [],
   "source": [
    "# Let's use it:\n",
    "\n",
    "import chat_assistant\n",
    "\n",
    "tools = chat_assistant.Tools()\n",
    "tools.add_tool(get_weather, get_weather_tool)\n",
    "\n",
    "tools.get_tools()\n",
    "\n",
    "developer_prompt = \"\"\"\n",
    "You're a weather bureau assistant. \n",
    "You're given a question about current weather conditions in particular city or country and your task is to answer it.\n",
    "\n",
    "Use weather tool to answer the question. Parse the user question and pass only the name of the city to the tool.\n",
    "If you unsure what is the city user asked for, double-check exact city name.\n",
    "\n",
    "At the end of each response, ask the user a follow up question based on your answer.\n",
    "\"\"\".strip()\n",
    "\n",
    "chat_interface = chat_assistant.ChatInterface()\n",
    "\n",
    "chat = chat_assistant.ChatAssistant(\n",
    "    tools=tools,\n",
    "    developer_prompt=developer_prompt,\n",
    "    chat_interface=chat_interface,\n",
    "    client=client\n",
    ")\n"
   ]
  },
  {
   "cell_type": "code",
   "execution_count": 45,
   "id": "dd5f6cb1-b817-4f25-b397-31cb9af19491",
   "metadata": {},
   "outputs": [
    {
     "name": "stdin",
     "output_type": "stream",
     "text": [
      "You: What is the weather in Prague?\n"
     ]
    },
    {
     "data": {
      "text/html": [
       "\n",
       "            <details>\n",
       "            <summary>Function call: <tt>get_weather({\"city\":\"Prague\"})</tt></summary>\n",
       "            <div>\n",
       "                <b>Call</b>\n",
       "                <pre>ResponseFunctionToolCall(arguments='{\"city\":\"Prague\"}', call_id='call_8iQNkXDAgBIyzqAKUL7QNVlQ', name='get_weather', type='function_call', id='fc_68bdd451e6488193b5967e4fb38ba4a702e1dd1fbb55822f', status='completed')</pre>\n",
       "            </div>\n",
       "            <div>\n",
       "                <b>Output</b>\n",
       "                <pre>9.9</pre>\n",
       "            </div>\n",
       "            \n",
       "            </details>\n",
       "        "
      ],
      "text/plain": [
       "<IPython.core.display.HTML object>"
      ]
     },
     "metadata": {},
     "output_type": "display_data"
    },
    {
     "data": {
      "text/html": [
       "\n",
       "            <div>\n",
       "                <div><b>Assistant:</b></div>\n",
       "                <div><p>The current temperature in Prague is approximately 9.9°C. </p>\n",
       "<p>Would you like to know the forecast for the upcoming days?</p></div>\n",
       "            </div>\n",
       "        "
      ],
      "text/plain": [
       "<IPython.core.display.HTML object>"
      ]
     },
     "metadata": {},
     "output_type": "display_data"
    },
    {
     "name": "stdin",
     "output_type": "stream",
     "text": [
      "You: exit\n"
     ]
    },
    {
     "data": {
      "text/html": [
       "\n",
       "            <div>\n",
       "                <div><b>Assistant:</b></div>\n",
       "                <div><p>If you have any other questions in the future, feel free to ask. Have a great day!</p></div>\n",
       "            </div>\n",
       "        "
      ],
      "text/plain": [
       "<IPython.core.display.HTML object>"
      ]
     },
     "metadata": {},
     "output_type": "display_data"
    },
    {
     "name": "stdin",
     "output_type": "stream",
     "text": [
      "You: stop\n"
     ]
    },
    {
     "name": "stdout",
     "output_type": "stream",
     "text": [
      "Chat ended.\n"
     ]
    }
   ],
   "source": [
    "# and run\n",
    "# type stop to exit\n",
    "\n",
    "chat.run()"
   ]
  },
  {
   "cell_type": "code",
   "execution_count": null,
   "id": "de37e3e2-87b4-4d29-ba03-e33358eff2b6",
   "metadata": {},
   "outputs": [],
   "source": []
  }
 ],
 "metadata": {
  "kernelspec": {
   "display_name": "Python 3 (ipykernel)",
   "language": "python",
   "name": "python3"
  },
  "language_info": {
   "codemirror_mode": {
    "name": "ipython",
    "version": 3
   },
   "file_extension": ".py",
   "mimetype": "text/x-python",
   "name": "python",
   "nbconvert_exporter": "python",
   "pygments_lexer": "ipython3",
   "version": "3.12.1"
  }
 },
 "nbformat": 4,
 "nbformat_minor": 5
}
